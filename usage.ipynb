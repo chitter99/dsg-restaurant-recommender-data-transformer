{
 "cells": [
  {
   "cell_type": "code",
   "execution_count": null,
   "metadata": {},
   "outputs": [],
   "source": [
    "import numpy as np\n",
    "import pandas as pd\n",
    "import transform as pt"
   ]
  },
  {
   "cell_type": "markdown",
   "metadata": {},
   "source": [
    "Import and transform all data sets via the functions defined in `transform.py`"
   ]
  },
  {
   "cell_type": "code",
   "execution_count": null,
   "metadata": {},
   "outputs": [],
   "source": [
    "# user features\n",
    "users = pd.read_csv('.\\\\input\\\\user_features.csv')\n",
    "users = pt.transform_user_features(users)\n",
    "# restaurant features\n",
    "restaurants = pd.read_csv('.\\\\input\\\\restaurant_features.csv')\n",
    "restaurants = pt.transform_restaurant_features(restaurants)\n",
    "# ratings\n",
    "ratings = pd.read_csv('.\\\\input\\\\ratings.csv')\n",
    "ratings = pt.transform_ratings(ratings)"
   ]
  },
  {
   "cell_type": "markdown",
   "metadata": {},
   "source": [
    "Replace the old ids in all data sets with the new indexs from pandas."
   ]
  },
  {
   "cell_type": "code",
   "execution_count": null,
   "metadata": {},
   "outputs": [],
   "source": [
    "(users, restaurants, ratings) = pt.transform_foreign_keys(users, restaurants, ratings)"
   ]
  },
  {
   "cell_type": "code",
   "execution_count": null,
   "metadata": {},
   "outputs": [],
   "source": [
    "from IPython.display import display, HTML\n",
    "\n",
    "display(HTML(users.to_html()))\n",
    "display(HTML(restaurants.to_html()))\n",
    "display(HTML(ratings.to_html()))"
   ]
  }
 ],
 "metadata": {
  "interpreter": {
   "hash": "ab3c020e458728d331c9f53a373940492d494375ed56a55af4306ab78a03c1da"
  },
  "kernelspec": {
   "display_name": "Python 3.9.7 64-bit ('.venv': venv)",
   "language": "python",
   "name": "python3"
  },
  "language_info": {
   "codemirror_mode": {
    "name": "ipython",
    "version": 3
   },
   "file_extension": ".py",
   "mimetype": "text/x-python",
   "name": "python",
   "nbconvert_exporter": "python",
   "pygments_lexer": "ipython3",
   "version": "3.9.7"
  },
  "orig_nbformat": 4
 },
 "nbformat": 4,
 "nbformat_minor": 2
}
